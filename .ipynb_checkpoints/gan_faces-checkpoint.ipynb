{
 "cells": [
  {
   "cell_type": "code",
   "execution_count": 1,
   "metadata": {},
   "outputs": [
    {
     "name": "stderr",
     "output_type": "stream",
     "text": [
      "c:\\users\\eric\\anaconda2\\envs\\hse_dl\\lib\\site-packages\\h5py\\__init__.py:34: FutureWarning: Conversion of the second argument of issubdtype from `float` to `np.floating` is deprecated. In future, it will be treated as `np.float64 == np.dtype(float).type`.\n",
      "  from ._conv import register_converters as _register_converters\n"
     ]
    }
   ],
   "source": [
    "from __future__ import division\n",
    "import numpy as np\n",
    "import tensorflow as tf\n",
    "import matplotlib.pyplot as plt\n",
    "from glob import glob\n",
    "from random import shuffle\n",
    "\n",
    "import time\n",
    "import os\n",
    "\n",
    "from ops import *\n",
    "from utils import *"
   ]
  },
  {
   "cell_type": "markdown",
   "metadata": {},
   "source": [
    "Today we are going to train GAN for generating faces and then we will make fun playing with it. Generative adversarial networks (GANs) are deep neural net architectures comprised of two nets, pitting one against the other (thus the “adversarial”). One neural network, called the generator, generates new faces, while the other, the discriminator,  decides whether each instance of face it reviews belongs to the actual training dataset or not.\n",
    "\n",
    "Firstly download aligned faces of celebrities from here <a href=\"https://yadi.sk/d/xjuClJJH3MAVXh\">link</a> and extract them into folder near ipython notebook."
   ]
  },
  {
   "cell_type": "markdown",
   "metadata": {},
   "source": [
    "# Implementation of GAN"
   ]
  },
  {
   "cell_type": "markdown",
   "metadata": {},
   "source": [
    "Constant variables below depends on your dataset and choosing of architecture."
   ]
  },
  {
   "cell_type": "code",
   "execution_count": 2,
   "metadata": {},
   "outputs": [],
   "source": [
    "DATA_PATH = './img_align_celeba/' # Path to the dataset with celebA faces\n",
    "Z_DIM=100 # Dimension of face's manifold\n",
    "GENERATOR_DENSE_SIZE=64*8 # Length of first tensor in generator\n",
    "\n",
    "IMAGE_SIZE=64 # Shapes of input image\n",
    "BATCH_SIZE=64 # Batch size\n",
    "N_CHANNELS = 3 # Number channels of input image\n",
    "\n",
    "MERGE_X = 8 # Number images in merged image"
   ]
  },
  {
   "cell_type": "code",
   "execution_count": 3,
   "metadata": {},
   "outputs": [],
   "source": [
    "assert(os.path.exists(DATA_PATH)), 'Please, download aligned celebA to DATA_PATH folder'"
   ]
  },
  {
   "cell_type": "markdown",
   "metadata": {},
   "source": [
    "Let's define GAN. To do it, we need to define generator, discriminator and loss functions."
   ]
  },
  {
   "cell_type": "markdown",
   "metadata": {},
   "source": [
    "Here are some tips on the architecture of the generator:\n",
    "1. The deeper is convolution, the less filters is using.\n",
    "2. Apply deconvolutions-relu layers to achieve input image shape.\n",
    "3. Use batch normalization before nonlinearity for speed and stability of learning.\n",
    "4. Use tanh activation at the end of network (in this case images should be scaled to [-1, 1])\n",
    "5. To force generator not to collapse and produce different outputs initialize bias with zero (see linear layer).\n",
    "\n",
    "Other useful tips: https://github.com/soumith/ganhacks. Example of architecture see below. You may also use defined layers from ops.py. <b> Please, use names for layers started with \"g\\_\" for generator and \"d_\" for discriminator.</b>"
   ]
  },
  {
   "cell_type": "markdown",
   "metadata": {},
   "source": [
    "<img src=\"https://raw.githubusercontent.com/carpedm20/DCGAN-tensorflow/master/DCGAN.png\">"
   ]
  },
  {
   "cell_type": "markdown",
   "metadata": {},
   "source": [
    "## Writing generator function (1 point)"
   ]
  },
  {
   "cell_type": "code",
   "execution_count": 4,
   "metadata": {},
   "outputs": [],
   "source": [
    "## improved version? original seems to work fine, let's keep this in case we need it later\n",
    "def generator(z, is_training):\n",
    "    # Firstly let's reshape input vector into 3-d tensor. \n",
    "    z_ = linear(z, GENERATOR_DENSE_SIZE * 4 * 4, 'g_h0_lin')\n",
    "    h_in = tf.reshape(z_, [-1, 4, 4, GENERATOR_DENSE_SIZE])\n",
    "    \n",
    "    # transpose conv 1\n",
    "    net = deconv2d(h_in, [BATCH_SIZE, 8, 8, 512], name=\"g_conv_1\")\n",
    "    net = tf.contrib.layers.batch_norm(net, epsilon=1e-5, center=True, scale=True, is_training=is_training, scope=\"g_bn_1\")\n",
    "    net = tf.nn.relu(net)\n",
    "    \n",
    "    # tranpose conv 2\n",
    "    net = deconv2d(net, [BATCH_SIZE, 16, 16, 256], name=\"g_conv_2\")\n",
    "    net = tf.contrib.layers.batch_norm(net, epsilon=1e-5, center=True, scale=True, is_training=is_training, scope=\"g_bn_2\")\n",
    "    net = tf.nn.relu(net)\n",
    "    \n",
    "    # tranpose conv 3\n",
    "    net = deconv2d(net, [BATCH_SIZE, 32, 32, 128], name=\"g_conv_3\")\n",
    "    net = tf.contrib.layers.batch_norm(net, epsilon=1e-5, center=True, scale=True, is_training=is_training, scope=\"g_bn_3\")\n",
    "    net = tf.nn.relu(net)\n",
    "    \n",
    "    # transpose conv 4\n",
    "    net = deconv2d(net, [BATCH_SIZE, IMAGE_SIZE, IMAGE_SIZE, 16], name='g_conv_4')\n",
    "    net = tf.contrib.layers.batch_norm(net, epsilon=1e-5, center=True, scale=True, is_training=is_training, scope=\"g_bn_4\")\n",
    "    net = tf.nn.relu(net)\n",
    "    \n",
    "    # transpose conv with stride 1 to smooth out artifacts as per Odena, et al., 2016\n",
    "    h_out = tf.layers.conv2d_transpose(\n",
    "            net,\n",
    "            filters=N_CHANNELS,\n",
    "            kernel_size=(3, 3),\n",
    "            strides=(1, 1),\n",
    "            padding='SAME',\n",
    "            activation=None,\n",
    "            kernel_initializer=tf.truncated_normal_initializer(stddev=5e-2, seed=117932),\n",
    "            name='g_conv_5'\n",
    "        )\n",
    "\n",
    "    return tf.nn.tanh(h_out)"
   ]
  },
  {
   "cell_type": "markdown",
   "metadata": {},
   "source": [
    "Now let's define discriminator. Discriminator takes 3d tensor as input and outputs one number - probability that this is an image.\n",
    "\n",
    "Some advice for discriminator's architecture:\n",
    "1. Use batch normalization between convolutions and nonlinearities.\n",
    "2. Use leaky relu with the leak about 0.2.\n",
    "3. The deeper the layer, the more filters you can use.\n",
    "\n",
    "If you use batch normalization, please define every layer in their own scope and pass is_training parameter there. Or you may use class of batch normalization from ops.py. Do not forget to fratten tensor after the convolution blocks."
   ]
  },
  {
   "cell_type": "markdown",
   "metadata": {},
   "source": [
    "## Writing discriminator function (1 point)"
   ]
  },
  {
   "cell_type": "code",
   "execution_count": 5,
   "metadata": {},
   "outputs": [],
   "source": [
    "def discriminator(image, is_training, batch_norms=None):\n",
    "    # images are cropped and resized in the get_image function rather than in the graph\n",
    "    \n",
    "    # conv 1 - 64x64x16\n",
    "    dis = tf.layers.conv2d(\n",
    "            image,\n",
    "            filters=16,\n",
    "            kernel_size=(3, 3),\n",
    "            strides=(1, 1),\n",
    "            padding='SAME',\n",
    "            activation=None,\n",
    "            kernel_initializer=tf.truncated_normal_initializer(stddev=5e-2, seed=113),\n",
    "            name='d_conv_1'\n",
    "        )\n",
    "    \n",
    "    dis = tf.contrib.layers.batch_norm(dis, epsilon=1e-5, center=True, scale=True, is_training=is_training, scope=\"d_bn_1\")\n",
    "    dis = tf.nn.leaky_relu(dis, alpha=0.2, name=\"lrelu_1\")\n",
    "    \n",
    "    # max pool 1 (replaced with stride 2 conv) - 32x32x16\n",
    "    dis = tf.layers.conv2d(\n",
    "            dis,\n",
    "            filters=16,\n",
    "            kernel_size=(3, 3),\n",
    "            strides=(2, 2),\n",
    "            padding='SAME',\n",
    "            activation=None,\n",
    "            kernel_initializer=tf.truncated_normal_initializer(stddev=5e-2, seed=113),\n",
    "            name='d_pool_1'\n",
    "        )\n",
    "    \n",
    "    # conv 2.0 - stride 1 - 32x32x32\n",
    "    dis = tf.layers.conv2d(\n",
    "            dis,\n",
    "            filters=32,\n",
    "            kernel_size=(3, 3),\n",
    "            strides=(1, 1),\n",
    "            padding='SAME',\n",
    "            activation=None,\n",
    "            kernel_initializer=tf.truncated_normal_initializer(stddev=5e-2, seed=113),\n",
    "            name='d_conv_2.0'\n",
    "        )\n",
    "    \n",
    "    dis = tf.contrib.layers.batch_norm(dis, epsilon=1e-5, center=True, scale=True, is_training=is_training, scope=\"d_bn_2.0\")\n",
    "    dis = tf.nn.leaky_relu(dis, alpha=0.2, name=\"lrelu_2.0\")\n",
    "    \n",
    "    # conv 2.1 - stride 2 - 16x16x32\n",
    "    dis = conv2d(dis, 32, name=\"d_conv_2.1\")\n",
    "    dis = tf.contrib.layers.batch_norm(dis, epsilon=1e-5, center=True, scale=True, is_training=is_training, scope=\"d_bn_2.1\")\n",
    "    dis = tf.nn.leaky_relu(dis, alpha=0.2, name=\"lrelu_2.1\")\n",
    "    \n",
    "\n",
    "    # conv 3 - stride 2 - 8x8x64\n",
    "    dis = conv2d(dis, 64, name=\"d_conv_3\")\n",
    "    dis = tf.contrib.layers.batch_norm(dis, epsilon=1e-5, center=True, scale=True, is_training=is_training, scope=\"d_bn_3\")\n",
    "    dis = tf.nn.leaky_relu(dis, alpha=0.2, name=\"lrelu_3\")\n",
    "    \n",
    "    # conv 4 - stride 2 - 4x4x128\n",
    "    dis = conv2d(dis, 128, name=\"d_conv_4\")\n",
    "    dis = tf.contrib.layers.batch_norm(dis, epsilon=1e-5, center=True, scale=True, is_training=is_training, scope=\"d_bn_4\")\n",
    "    dis = tf.nn.leaky_relu(dis, alpha=0.2, name=\"lrelu_4\")\n",
    "\n",
    "    # flatten\n",
    "    dis = tf.contrib.layers.flatten(dis)\n",
    "    \n",
    "    # fc 1\n",
    "    dis = tf.layers.dense(\n",
    "            dis,\n",
    "            256,\n",
    "            activation=None,\n",
    "            kernel_initializer=tf.variance_scaling_initializer(scale=2, seed=117),\n",
    "            bias_initializer=tf.zeros_initializer(),\n",
    "            kernel_regularizer=tf.contrib.layers.l2_regularizer(scale=0.001),\n",
    "            name=\"d_fc1\"\n",
    "        )\n",
    "    dis = tf.contrib.layers.batch_norm(dis, epsilon=1e-5, center=True, scale=True, is_training=is_training, scope=\"d_bn_5\")\n",
    "    dis = tf.nn.relu(dis, name='fc1_relu')\n",
    "    \n",
    "    # get one number and apply sigmoid\n",
    "    linear_out = tf.layers.dense(\n",
    "            dis,\n",
    "            1,\n",
    "            activation=None,\n",
    "            kernel_initializer=tf.variance_scaling_initializer(scale=2, seed=118),\n",
    "            bias_initializer=tf.zeros_initializer(),\n",
    "            kernel_regularizer=tf.contrib.layers.l2_regularizer(scale=0.001),\n",
    "            name=\"d_fc3\"\n",
    "        )\n",
    "    \n",
    "    return tf.nn.sigmoid(linear_out), linear_out"
   ]
  },
  {
   "cell_type": "markdown",
   "metadata": {},
   "source": [
    "Now let's define generator and discriminator."
   ]
  },
  {
   "cell_type": "code",
   "execution_count": 6,
   "metadata": {},
   "outputs": [],
   "source": [
    "tf.reset_default_graph()\n",
    "is_training = tf.placeholder(tf.bool, name='is_training')\n",
    "\n",
    "with tf.variable_scope(\"G\") as scope:\n",
    "    z = tf.placeholder(tf.float32, [None, Z_DIM], name='z')\n",
    "    G = generator(z, is_training)\n",
    "\n",
    "with tf.variable_scope('D') as scope:\n",
    "    images = tf.placeholder(tf.float32, shape=[None, 64, 64, N_CHANNELS], name=\"images_placeholder\")\n",
    "    \n",
    "    # If you use batch norms from ops define them here (like batch_norms = [batch_norm(name='d_bn0')])\n",
    "    # and pass to discriminator function instances.\n",
    "    D_real, D_real_logits = discriminator(images, is_training)\n",
    "    scope.reuse_variables()\n",
    "    D_fake, D_fake_logits = discriminator(G, is_training)"
   ]
  },
  {
   "cell_type": "markdown",
   "metadata": {},
   "source": [
    "Write definition of loss funstions according to formulas:\n",
    "$$ D\\_loss = \\frac{-1}{m} \\sum_{i=1}^{m}[\\log{D(x_i)} + \\log{(1 - D(G(z_i)))}]$$\n",
    "$$ G\\_loss = \\frac{1}{m} \\sum_{i=1}^{m} \\log{(1 - D(G(z_i)))}$$\n",
    "\n",
    "Or for better learning you may try other loss for generator:\n",
    "$$ G\\_loss = \\frac{-1}{m} \\sum_{i=1}^{m} \\log{(D(G(z_i)))}$$"
   ]
  },
  {
   "cell_type": "markdown",
   "metadata": {},
   "source": [
    "## Writing loss functions (2 points)"
   ]
  },
  {
   "cell_type": "code",
   "execution_count": 7,
   "metadata": {},
   "outputs": [],
   "source": [
    "d_loss_real = tf.reduce_mean(tf.nn.sigmoid_cross_entropy_with_logits(logits=D_real_logits, labels=tf.ones_like(D_real)))\n",
    "\n",
    "d_loss_fake = tf.reduce_mean(tf.nn.sigmoid_cross_entropy_with_logits(logits=D_fake_logits, labels=tf.zeros_like(D_fake)))\n",
    "\n",
    "d_loss = d_loss_real + d_loss_fake\n",
    "\n",
    "g_loss = tf.reduce_mean(tf.nn.sigmoid_cross_entropy_with_logits(logits=D_fake_logits, labels=tf.ones_like(D_fake)))"
   ]
  },
  {
   "cell_type": "markdown",
   "metadata": {},
   "source": [
    "Create optimizers. We use different optimizers for discriminator and generator, so we needed a separate prefix for the discriminator and generator variables (g_ for generator, d_ for disciminator)."
   ]
  },
  {
   "cell_type": "code",
   "execution_count": 8,
   "metadata": {},
   "outputs": [],
   "source": [
    "tvars = tf.trainable_variables()\n",
    "## All variables of discriminator\n",
    "d_vars = [v for v in tvars if 'd_' in v.name]\n",
    "\n",
    "## All variables of generator\n",
    "g_vars = [v for v in tvars if 'g_' in v.name]\n",
    "\n",
    "LEARNING_RATE = 0.0002 # Learning rate for adam optimizer\n",
    "BETA = 0.5 # Beta paramater in adam optimizer\n",
    "\n",
    "##Optimizers - ypu may use your favourite instead.\n",
    "d_optim = tf.train.AdamOptimizer(LEARNING_RATE, beta1=BETA) \\\n",
    "                  .minimize(d_loss, var_list=d_vars)\n",
    "g_optim = tf.train.AdamOptimizer(LEARNING_RATE, beta1=BETA) \\\n",
    "                  .minimize(g_loss, var_list=g_vars) \n",
    "\n",
    "# get the batch norm updates so we can run them\n",
    "gen_extra_update_ops = tf.get_collection(tf.GraphKeys.UPDATE_OPS, scope=\"G\")\n",
    "dis_extra_update_ops = tf.get_collection(tf.GraphKeys.UPDATE_OPS, scope=\"D\")"
   ]
  },
  {
   "cell_type": "markdown",
   "metadata": {},
   "source": [
    "Load data:"
   ]
  },
  {
   "cell_type": "code",
   "execution_count": 9,
   "metadata": {},
   "outputs": [],
   "source": [
    "data = glob(os.path.join(DATA_PATH, \"*.jpg\"))\n",
    "assert(len(data) > 0), \"Length of training data should be more than zero\""
   ]
  },
  {
   "cell_type": "markdown",
   "metadata": {},
   "source": [
    "Functions for training and evaluations."
   ]
  },
  {
   "cell_type": "code",
   "execution_count": 10,
   "metadata": {},
   "outputs": [],
   "source": [
    "def load(sess, load_dir):\n",
    "    \"\"\"load network's paramaters\n",
    "    \n",
    "    load_dir : path to load dir\n",
    "    \"\"\"\n",
    "    saver = tf.train.Saver()\n",
    "    ckpt = tf.train.get_checkpoint_state(load_dir)\n",
    "    if ckpt and ckpt.model_checkpoint_path:\n",
    "            saver.restore(sess, ckpt.model_checkpoint_path)"
   ]
  },
  {
   "cell_type": "markdown",
   "metadata": {},
   "source": [
    "## Training GAN (1 point + 2 for good results)"
   ]
  },
  {
   "cell_type": "code",
   "execution_count": 11,
   "metadata": {},
   "outputs": [
    {
     "name": "stderr",
     "output_type": "stream",
     "text": [
      "C:\\Users\\eric\\AppData\\Roaming\\Python\\Python36\\site-packages\\skimage\\transform\\_warps.py:105: UserWarning: The default mode, 'constant', will be changed to 'reflect' in skimage 0.15.\n",
      "  warn(\"The default mode, 'constant', will be changed to 'reflect' in \"\n",
      "C:\\Users\\eric\\AppData\\Roaming\\Python\\Python36\\site-packages\\skimage\\transform\\_warps.py:110: UserWarning: Anti-aliasing will be enabled by default in skimage 0.15 to avoid aliasing artifacts when down-sampling images.\n",
      "  warn(\"Anti-aliasing will be enabled by default in skimage 0.15 to \"\n"
     ]
    },
    {
     "data": {
      "text/plain": [
       "(64, 64, 3)"
      ]
     },
     "execution_count": 11,
     "metadata": {},
     "output_type": "execute_result"
    }
   ],
   "source": [
    "# make sure the input is properly resized\n",
    "idx = 0\n",
    "batch_files = data[idx*BATCH_SIZE:(idx+1)*BATCH_SIZE]\n",
    "batch = [get_image(batch_file, IMAGE_SIZE) for batch_file in batch_files]\n",
    "\n",
    "batch[0].shape"
   ]
  },
  {
   "cell_type": "code",
   "execution_count": 12,
   "metadata": {},
   "outputs": [],
   "source": [
    "def train(sess, load_dir=None, save_frequency=50, sample_frequency=100, sample_dir='sample_faces',\n",
    "          save_dir='checkpoint', max_to_keep=1, model_name='dcgan.model',\n",
    "          n_epochs=25, n_generator_update=2, \n",
    "          print_frequency=25,\n",
    "          show_samples=True,\n",
    "          gen_extra_update_ops=gen_extra_update_ops, \n",
    "          dis_extra_update_ops=dis_extra_update_ops):\n",
    "    \"\"\"train gan\n",
    "    Parameters\n",
    "    -------------------------------------------\n",
    "    load_dir : str, default = None\n",
    "        path to the folder with parameters\n",
    "    save_frequency: int, default = 100\n",
    "        how often save parameters []\n",
    "    sample_frequency: int, default = None (not sample)\n",
    "        how often sample faces\n",
    "    sample_dir: str, default = samples\n",
    "        directory for sampled images\n",
    "    save_dir: str, default = 'checkpoint'\n",
    "        path where to save parameters\n",
    "    max_to_keep: int, default = 1\n",
    "        how many last checkpoints to store\n",
    "    model_name: str, default='dcgan.model'\n",
    "        name of model\n",
    "    n_epochs: int, default = 25 \n",
    "        number epochs to train\n",
    "    n_generator_update: int, default = 2\n",
    "        how many times run generator updates per one discriminator update\n",
    "    -------------------------------------------\n",
    "    \"\"\"\n",
    "    \n",
    "    if save_frequency is not None:\n",
    "        saver = tf.train.Saver(max_to_keep=max_to_keep)\n",
    "        \n",
    "    if load_dir is not None:\n",
    "        print(\"Reading checkpoints...\")\n",
    "        load(sess, load_dir)\n",
    "        print(\"Loaded checkpoints\")\n",
    "    else:\n",
    "        try:\n",
    "            tf.global_variables_initializer().run()\n",
    "        except:\n",
    "            tf.initialize_all_variables().run()\n",
    "\n",
    "    counter=1\n",
    "    start_time = time.time()\n",
    "    \n",
    "    # shuffle the input data\n",
    "    shuffle(data)\n",
    "    \n",
    "    for epoch in range(n_epochs):\n",
    "        batch_idxs = min(len(data), np.inf) // BATCH_SIZE\n",
    "        for idx in range(0, batch_idxs):\n",
    "            batch_files = data[idx*BATCH_SIZE:(idx+1)*BATCH_SIZE]\n",
    "            batch = [get_image(batch_file, IMAGE_SIZE) for batch_file in batch_files]\n",
    "            batch_images = np.array(batch).astype(np.float32)\n",
    "            batch_z = np.random.uniform(-1, 1, [BATCH_SIZE, Z_DIM]).astype(np.float32)\n",
    "            \n",
    "            # Update D network\n",
    "            sess.run([d_optim, dis_extra_update_ops], feed_dict={images: batch_images, z: batch_z, is_training: True})\n",
    "\n",
    "            # Update G network\n",
    "            for _ in range(n_generator_update):\n",
    "                sess.run([g_optim, gen_extra_update_ops],\n",
    "                    feed_dict={z: batch_z, is_training: True})\n",
    "            \n",
    "            counter += 1\n",
    "            # over 100,000 images means a lot of batches and we don't need to see the results for each batch\n",
    "            # this will also speed up training hopefully\n",
    "            if np.mod(counter, print_frequency) == 1:\n",
    "                errD_fake = d_loss_fake.eval({z: batch_z, is_training: False})\n",
    "                errD_real = d_loss_real.eval({images: batch_images, is_training: False})\n",
    "                errG = g_loss.eval({z: batch_z, is_training: False})\n",
    "\n",
    "                print(\"Epoch: [{:2d}] [{:4d}/{:4d}] time: {:4.4f}, d_loss: {:.8f}, g_loss: {:.8f}\".format(\n",
    "                    epoch, idx, batch_idxs, time.time() - start_time, errD_fake+errD_real, errG))\n",
    "\n",
    "            if np.mod(counter, save_frequency) == 1:\n",
    "                print(\"Saved model\")\n",
    "                saver.save(sess, \n",
    "                           os.path.join(save_dir, model_name))\n",
    "\n",
    "            if np.mod(counter, sample_frequency) == 1:\n",
    "                samples = sess.run(G, feed_dict={z: batch_z, is_training: False} )\n",
    "                save_images(samples, [8, 8],\n",
    "                            os.path.join(sample_dir, 'train_{:02d}_{:04d}.jpg'.format(epoch, idx)))\n",
    "                print(\"Sample\")\n",
    "                \n",
    "                # instead of waiting for the samples to be saved to a file let's display one right here\n",
    "                if show_samples:\n",
    "                    print(\"\\n\")\n",
    "                    plt.imshow(inverse_transform(samples[0]))\n",
    "                    plt.show()\n",
    "                    print(\"\\n\\n\\n\")"
   ]
  },
  {
   "cell_type": "markdown",
   "metadata": {},
   "source": [
    "It was difficult to train this due to the slow speed of a CPU and the low memory of my laptop GPU. The kernel crashed frequently, when this happened I restored the checkpoint and continued training."
   ]
  },
  {
   "cell_type": "code",
   "execution_count": null,
   "metadata": {
    "scrolled": true
   },
   "outputs": [
    {
     "name": "stdout",
     "output_type": "stream",
     "text": [
      "Reading checkpoints...\n",
      "INFO:tensorflow:Restoring parameters from checkpoint\\dcgan5.model\n"
     ]
    },
    {
     "name": "stderr",
     "output_type": "stream",
     "text": [
      "INFO:tensorflow:Restoring parameters from checkpoint\\dcgan5.model\n"
     ]
    },
    {
     "name": "stdout",
     "output_type": "stream",
     "text": [
      "Loaded checkpoints\n"
     ]
    },
    {
     "name": "stderr",
     "output_type": "stream",
     "text": [
      "C:\\Users\\eric\\AppData\\Roaming\\Python\\Python36\\site-packages\\skimage\\transform\\_warps.py:105: UserWarning: The default mode, 'constant', will be changed to 'reflect' in skimage 0.15.\n",
      "  warn(\"The default mode, 'constant', will be changed to 'reflect' in \"\n",
      "C:\\Users\\eric\\AppData\\Roaming\\Python\\Python36\\site-packages\\skimage\\transform\\_warps.py:110: UserWarning: Anti-aliasing will be enabled by default in skimage 0.15 to avoid aliasing artifacts when down-sampling images.\n",
      "  warn(\"Anti-aliasing will be enabled by default in skimage 0.15 to \"\n"
     ]
    },
    {
     "name": "stdout",
     "output_type": "stream",
     "text": [
      "Epoch: [ 0] [  24/1761] time: 484.1052, d_loss: 1.53718925, g_loss: 0.40659493\n",
      "Epoch: [ 0] [  49/1761] time: 936.2093, d_loss: 1.67862391, g_loss: 0.29854181\n",
      "Saved model\n",
      "Epoch: [ 0] [  74/1761] time: 1364.0202, d_loss: 2.12972164, g_loss: 0.15279630\n",
      "Epoch: [ 0] [  99/1761] time: 1789.8009, d_loss: 1.91841459, g_loss: 0.20627373\n",
      "Saved model\n",
      "Sample\n",
      "\n",
      "\n"
     ]
    },
    {
     "data": {
      "image/png": "[encoded data removed]",
      "text/plain": [
       "<matplotlib.figure.Figure at 0x256032fc128>"
      ]
     },
     "metadata": {},
     "output_type": "display_data"
    },
    {
     "name": "stdout",
     "output_type": "stream",
     "text": [
      "\n",
      "\n",
      "\n",
      "\n",
      "Epoch: [ 0] [ 124/1761] time: 2221.2247, d_loss: 1.87135851, g_loss: 0.24277468\n",
      "Epoch: [ 0] [ 149/1761] time: 2649.1305, d_loss: 1.79414773, g_loss: 0.25847280\n",
      "Saved model\n",
      "Epoch: [ 0] [ 174/1761] time: 3111.0052, d_loss: 2.11931610, g_loss: 0.15966570\n",
      "Epoch: [ 0] [ 199/1761] time: 3570.4363, d_loss: 1.96583176, g_loss: 0.20564869\n",
      "Saved model\n",
      "Sample\n",
      "\n",
      "\n"
     ]
    },
    {
     "data": {
      "image/png": "[encoded data removed]",
      "text/plain": [
       "<matplotlib.figure.Figure at 0x2560330bdd8>"
      ]
     },
     "metadata": {},
     "output_type": "display_data"
    },
    {
     "name": "stdout",
     "output_type": "stream",
     "text": [
      "\n",
      "\n",
      "\n",
      "\n",
      "Epoch: [ 0] [ 224/1761] time: 4028.8793, d_loss: 2.52971482, g_loss: 0.09831075\n",
      "Epoch: [ 0] [ 249/1761] time: 4457.4302, d_loss: 2.38448381, g_loss: 0.11289553\n",
      "Saved model\n",
      "Epoch: [ 0] [ 274/1761] time: 4892.6642, d_loss: 2.28818130, g_loss: 0.12574135\n",
      "Epoch: [ 0] [ 299/1761] time: 5349.3509, d_loss: 2.51764870, g_loss: 0.09902561\n",
      "Saved model\n",
      "Sample\n",
      "\n",
      "\n"
     ]
    },
    {
     "data": {
      "image/png": "[encoded data removed]",
      "text/plain": [
       "<matplotlib.figure.Figure at 0x255e8181b38>"
      ]
     },
     "metadata": {},
     "output_type": "display_data"
    },
    {
     "name": "stdout",
     "output_type": "stream",
     "text": [
      "\n",
      "\n",
      "\n",
      "\n",
      "Epoch: [ 0] [ 324/1761] time: 5836.9912, d_loss: 2.41616344, g_loss: 0.10755178\n"
     ]
    }
   ],
   "source": [
    "# use first config to train on CPU, second on GPU\n",
    "config=tf.ConfigProto(device_count={'GPU': 0})\n",
    "# config = tf.ConfigProto()\n",
    "\n",
    "with tf.Session(config=config) as sess:\n",
    "    train(sess, load_dir='checkpoint', save_dir='checkpoint', show_samples=True, model_name='dcgan5.model', n_generator_update=2)"
   ]
  },
  {
   "cell_type": "markdown",
   "metadata": {},
   "source": [
    "If you generated something that looks like a face - it's cool! Add 2 points to your mark."
   ]
  },
  {
   "cell_type": "code",
   "execution_count": null,
   "metadata": {},
   "outputs": [],
   "source": [
    "with tf.Session(config=config) as sess:\n",
    "    load(sess, 'checkpoint')\n",
    "    \n",
    "    batch_z = np.random.uniform(-1, 1, [BATCH_SIZE, Z_DIM]).astype(np.float32)\n",
    "    samples = sess.run(G, feed_dict={z: batch_z, is_training: False} )\n",
    "    \n",
    "plt.imshow(inverse_transform(samples[10]))"
   ]
  },
  {
   "cell_type": "code",
   "execution_count": 17,
   "metadata": {},
   "outputs": [
    {
     "name": "stdout",
     "output_type": "stream",
     "text": [
      "INFO:tensorflow:Restoring parameters from checkpoint\\dcgan3.model\n"
     ]
    },
    {
     "data": {
      "text/plain": [
       "<matplotlib.image.AxesImage at 0x2621513e4e0>"
      ]
     },
     "execution_count": 17,
     "metadata": {},
     "output_type": "execute_result"
    },
    {
     "data": {
      "image/png": "[encoded data removed]",
      "text/plain": [
       "<matplotlib.figure.Figure at 0x2621e4c0780>"
      ]
     },
     "metadata": {},
     "output_type": "display_data"
    }
   ],
   "source": [
    "# this is a sample from the first run I did, it sort of looks like a face?\n",
    "with tf.Session(config=config) as sess:\n",
    "    load(sess, 'checkpoint')\n",
    "    \n",
    "    batch_z = np.random.uniform(-1, 1, [BATCH_SIZE, Z_DIM]).astype(np.float32)\n",
    "    samples = sess.run(G, feed_dict={z: batch_z, is_training: False} )\n",
    "    \n",
    "plt.imshow(inverse_transform(samples[10]))"
   ]
  },
  {
   "cell_type": "markdown",
   "metadata": {},
   "source": [
    "## Face interpolation (1 point)"
   ]
  },
  {
   "cell_type": "markdown",
   "metadata": {
    "collapsed": true
   },
   "source": [
    "Let's interpolate between faces: generate two vectors $z_1$ and $z_2$ and get a batch of vectors of the form $\\alpha\\cdot z_1 + (1- \\alpha)\\cdot  z_2, \\alpha \\in [0,1].$ Generate faces on them and look at results. The generator displays pictures in the range from -1 to 1, so use the inverse transform function from the file utils.py."
   ]
  },
  {
   "cell_type": "code",
   "execution_count": null,
   "metadata": {},
   "outputs": [],
   "source": [
    "# initialize two random vectors\n",
    "z1 = np.random.uniform(-1, 1, [1, Z_DIM]).astype(np.float32)\n",
    "z2 = np.random.uniform(-1, 1, [1, Z_DIM]).astype(np.float32)\n",
    "\n",
    "# initialize a range of alphas\n",
    "alphas = np.linspace(0, 1, 48)\n",
    "\n",
    "batchz = []\n",
    "\n",
    "# loop through and create our batch of vectors\n",
    "for alpha in alphas:\n",
    "    batchz.append((alpha * z1) + ((1 - alpha) * z2))\n",
    "    \n",
    "# convert the list into a numpy array    \n",
    "batchz = np.array(batchz)"
   ]
  },
  {
   "cell_type": "code",
   "execution_count": null,
   "metadata": {},
   "outputs": [],
   "source": [
    "# create images with our vectors as input\n",
    "with tf.Session(config=config) as sess:\n",
    "    load(sess, 'checkpoint')\n",
    "    \n",
    "    batch_z = np.random.uniform(-1, 1, [BATCH_SIZE, Z_DIM]).astype(np.float32)\n",
    "    samples = sess.run(G, feed_dict={z: batchz, is_training: False} )\n",
    "    \n",
    "# look at the images we created    \n",
    "for image in samples:\n",
    "    plt.imshow(inverse_transform(image))\n",
    "    plt.show()"
   ]
  },
  {
   "cell_type": "markdown",
   "metadata": {},
   "source": [
    "## Adding a smile (1 point + 1 point for good results)"
   ]
  },
  {
   "cell_type": "markdown",
   "metadata": {
    "collapsed": true
   },
   "source": [
    "Let's make face smiling. Find several vectors z, such that the generator generates smiling faces and not. Five vectors in every group should be enough (but the more, the better)."
   ]
  },
  {
   "cell_type": "markdown",
   "metadata": {
    "collapsed": true
   },
   "source": [
    "Calculate \"smile vector\" as mean of vectors z with generated smile on it minus mean of vectors z with generated not smile on it."
   ]
  },
  {
   "cell_type": "markdown",
   "metadata": {},
   "source": [
    "Look at the result of applying the smile vector: compare the results of generation before and after the addition of the smile vector."
   ]
  },
  {
   "cell_type": "code",
   "execution_count": null,
   "metadata": {},
   "outputs": [],
   "source": []
  },
  {
   "cell_type": "markdown",
   "metadata": {
    "collapsed": true
   },
   "source": [
    "If faces looks really cool, add bonus 1 point to your score."
   ]
  }
 ],
 "metadata": {
  "kernelspec": {
   "display_name": "Python 3",
   "language": "python",
   "name": "python3"
  },
  "language_info": {
   "codemirror_mode": {
    "name": "ipython",
    "version": 3
   },
   "file_extension": ".py",
   "mimetype": "text/x-python",
   "name": "python",
   "nbconvert_exporter": "python",
   "pygments_lexer": "ipython3",
   "version": "3.6.5"
  }
 },
 "nbformat": 4,
 "nbformat_minor": 2
}
